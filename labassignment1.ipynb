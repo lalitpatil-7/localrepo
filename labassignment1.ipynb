{
  "nbformat": 4,
  "nbformat_minor": 0,
  "metadata": {
    "colab": {
      "provenance": [],
      "include_colab_link": true
    },
    "kernelspec": {
      "name": "python3",
      "display_name": "Python 3"
    },
    "language_info": {
      "name": "python"
    }
  },
  "cells": [
    {
      "cell_type": "markdown",
      "metadata": {
        "id": "view-in-github",
        "colab_type": "text"
      },
      "source": [
        "<a href=\"https://colab.research.google.com/github/lalitpatil-7/localrepo/blob/main/labassignment1.ipynb\" target=\"_parent\"><img src=\"https://colab.research.google.com/assets/colab-badge.svg\" alt=\"Open In Colab\"/></a>"
      ]
    },
    {
      "source": [
        "import pandas as pd\n",
        "import numpy as np\n",
        "from sklearn.preprocessing import LabelEncoder\n",
        "\n",
        "# Load the dataset\n",
        "try:\n",
        "  df = pd.read_csv('/content/Students.csv')\n",
        "except FileNotFoundError:\n",
        "  print(\"Error: 'students.csv' not found. Please make sure the file is in the same directory or provide the correct path.\")\n",
        "\n",
        "print(\"Initial Dataframe\")\n",
        "print(df)"
      ],
      "cell_type": "code",
      "metadata": {
        "colab": {
          "base_uri": "https://localhost:8080/"
        },
        "id": "WvlARI05nbid",
        "outputId": "dffb688b-0a39-4de8-e5eb-54f268748a11"
      },
      "execution_count": null,
      "outputs": [
        {
          "output_type": "stream",
          "name": "stdout",
          "text": [
            "Initial Dataframe\n",
            "   StudentID     Name  Gender  Age  MathScore  EnglishScore  TotalScore\n",
            "0          1    Alice  Female   15       85.0          90.0         170\n",
            "1          2      Bob    Male   16        NaN          95.0          95\n",
            "2          3  Charlie    Male   15       80.0           NaN          80\n",
            "3          4    Diana  Female   16       90.0          85.0         170\n",
            "4          5      Eve  Female   15       75.0          70.0         140\n"
          ]
        }
      ]
    },
    {
      "source": [
        "# Fill missing values with the mean of each column\n",
        "df['MathScore'].fillna(df['MathScore'].mean(), inplace=True)\n",
        "df['EnglishScore'].fillna(df['EnglishScore'].mean(), inplace=True)\n",
        "\n",
        "print(\"\\nDataframe after filling missing values\")\n",
        "print(df)"
      ],
      "cell_type": "code",
      "metadata": {
        "colab": {
          "base_uri": "https://localhost:8080/"
        },
        "id": "8lDheCStnu2o",
        "outputId": "0af615e1-578f-44dd-9f60-db4a6e428383"
      },
      "execution_count": null,
      "outputs": [
        {
          "output_type": "stream",
          "name": "stdout",
          "text": [
            "\n",
            "Dataframe after filling missing values\n",
            "   StudentID     Name  Gender  Age  MathScore  EnglishScore  TotalScore\n",
            "0          1    Alice  Female   15       85.0          90.0         170\n",
            "1          2      Bob    Male   16       82.5          95.0          95\n",
            "2          3  Charlie    Male   15       80.0          85.0          80\n",
            "3          4    Diana  Female   16       90.0          85.0         170\n",
            "4          5      Eve  Female   15       75.0          70.0         140\n"
          ]
        },
        {
          "output_type": "stream",
          "name": "stderr",
          "text": [
            "<ipython-input-2-d18b4b8d2628>:2: FutureWarning: A value is trying to be set on a copy of a DataFrame or Series through chained assignment using an inplace method.\n",
            "The behavior will change in pandas 3.0. This inplace method will never work because the intermediate object on which we are setting values always behaves as a copy.\n",
            "\n",
            "For example, when doing 'df[col].method(value, inplace=True)', try using 'df.method({col: value}, inplace=True)' or df[col] = df[col].method(value) instead, to perform the operation inplace on the original object.\n",
            "\n",
            "\n",
            "  df['MathScore'].fillna(df['MathScore'].mean(), inplace=True)\n",
            "<ipython-input-2-d18b4b8d2628>:3: FutureWarning: A value is trying to be set on a copy of a DataFrame or Series through chained assignment using an inplace method.\n",
            "The behavior will change in pandas 3.0. This inplace method will never work because the intermediate object on which we are setting values always behaves as a copy.\n",
            "\n",
            "For example, when doing 'df[col].method(value, inplace=True)', try using 'df.method({col: value}, inplace=True)' or df[col] = df[col].method(value) instead, to perform the operation inplace on the original object.\n",
            "\n",
            "\n",
            "  df['EnglishScore'].fillna(df['EnglishScore'].mean(), inplace=True)\n"
          ]
        }
      ]
    },
    {
      "source": [
        "# Encode the Gender column\n",
        "le = LabelEncoder()\n",
        "df['Gender'] = le.fit_transform(df['Gender'])\n",
        "\n",
        "print(\"\\nDataframe after encoding gender\")\n",
        "print(df)"
      ],
      "cell_type": "code",
      "metadata": {
        "colab": {
          "base_uri": "https://localhost:8080/"
        },
        "id": "bSRSmj4xny9i",
        "outputId": "66bbb10a-d387-4b8d-e0fc-f738b90d6d34"
      },
      "execution_count": null,
      "outputs": [
        {
          "output_type": "stream",
          "name": "stdout",
          "text": [
            "\n",
            "Dataframe after encoding gender\n",
            "   StudentID     Name  Gender  Age  MathScore  EnglishScore  TotalScore\n",
            "0          1    Alice       0   15       85.0          90.0         170\n",
            "1          2      Bob       1   16       82.5          95.0          95\n",
            "2          3  Charlie       1   15       80.0          85.0          80\n",
            "3          4    Diana       0   16       90.0          85.0         170\n",
            "4          5      Eve       0   15       75.0          70.0         140\n"
          ]
        }
      ]
    },
    {
      "source": [
        "# Correct the TotalScore column\n",
        "df['TotalScore'] = df['MathScore'] + df['EnglishScore']\n",
        "\n",
        "print(\"\\nDataframe after correcting total score\")\n",
        "print(df)"
      ],
      "cell_type": "code",
      "metadata": {
        "colab": {
          "base_uri": "https://localhost:8080/"
        },
        "id": "Khk8QDfyn1wA",
        "outputId": "b4596ea8-5f08-47b6-cf27-2d1daf9d02c3"
      },
      "execution_count": null,
      "outputs": [
        {
          "output_type": "stream",
          "name": "stdout",
          "text": [
            "\n",
            "Dataframe after correcting total score\n",
            "   StudentID     Name  Gender  Age  MathScore  EnglishScore  TotalScore\n",
            "0          1    Alice       0   15       85.0          90.0       175.0\n",
            "1          2      Bob       1   16       82.5          95.0       177.5\n",
            "2          3  Charlie       1   15       80.0          85.0       165.0\n",
            "3          4    Diana       0   16       90.0          85.0       175.0\n",
            "4          5      Eve       0   15       75.0          70.0       145.0\n"
          ]
        }
      ]
    },
    {
      "source": [
        "# Standardize the score columns using IQR\n",
        "def standardize_iqr(column):\n",
        "    Q1 = column.quantile(0.25)\n",
        "    Q3 = column.quantile(0.75)\n",
        "    IQR = Q3 - Q1\n",
        "    lower_bound = Q1 - 1.5 * IQR\n",
        "    upper_bound = Q3 + 1.5 * IQR\n",
        "    column_no_outliers = np.clip(column, lower_bound, upper_bound)\n",
        "    return (column_no_outliers - column_no_outliers.median()) / IQR\n",
        "\n",
        "df['MathScore'] = standardize_iqr(df['MathScore'])\n",
        "df['EnglishScore'] = standardize_iqr(df['EnglishScore'])\n",
        "df['TotalScore'] = standardize_iqr(df['TotalScore'])\n",
        "\n",
        "print(\"\\nDataframe after standardizing the scores using IQR\")\n",
        "print(df)"
      ],
      "cell_type": "code",
      "metadata": {
        "colab": {
          "base_uri": "https://localhost:8080/"
        },
        "id": "2FQcnyMEn4dt",
        "outputId": "ddfa7cd5-fed9-45d3-ebed-e64158a2b64f"
      },
      "execution_count": null,
      "outputs": [
        {
          "output_type": "stream",
          "name": "stdout",
          "text": [
            "\n",
            "Dataframe after standardizing the scores using IQR\n",
            "   StudentID     Name  Gender  Age  MathScore  EnglishScore  TotalScore\n",
            "0          1    Alice       0   15        0.5           1.0        0.00\n",
            "1          2      Bob       1   16        0.0           2.0        0.25\n",
            "2          3  Charlie       1   15       -0.5           0.0       -1.00\n",
            "3          4    Diana       0   16        1.5           0.0        0.00\n",
            "4          5      Eve       0   15       -1.5          -1.5       -2.50\n"
          ]
        }
      ]
    }
  ]
}