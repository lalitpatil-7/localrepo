{
  "nbformat": 4,
  "nbformat_minor": 0,
  "metadata": {
    "colab": {
      "provenance": [],
      "include_colab_link": true
    },
    "kernelspec": {
      "name": "python3",
      "display_name": "Python 3"
    },
    "language_info": {
      "name": "python"
    }
  },
  "cells": [
    {
      "cell_type": "markdown",
      "metadata": {
        "id": "view-in-github",
        "colab_type": "text"
      },
      "source": [
        "<a href=\"https://colab.research.google.com/github/lalitpatil-7/localrepo/blob/main/labassignment2.ipynb\" target=\"_parent\"><img src=\"https://colab.research.google.com/assets/colab-badge.svg\" alt=\"Open In Colab\"/></a>"
      ]
    },
    {
      "cell_type": "code",
      "execution_count": null,
      "metadata": {
        "id": "26nkW3s_oEqX"
      },
      "outputs": [],
      "source": []
    },
    {
      "source": [
        "import pandas as pd\n",
        "from sklearn.preprocessing import MinMaxScaler\n",
        "\n",
        "# Load the dataset\n",
        "try:\n",
        "  df = pd.read_csv('/content/Sales.csv')\n",
        "except FileNotFoundError:\n",
        "    print(\"Error: sales.csv not found. Please upload it to the Colab environment.\")\n",
        "    exit()\n",
        "\n",
        "# Calculate the new Revenue column\n",
        "df['Revenue'] = df['Price'] * df['QuantitySold']\n",
        "\n",
        "print(\"New 'Revenue' column has been created.\")"
      ],
      "cell_type": "code",
      "metadata": {
        "colab": {
          "base_uri": "https://localhost:8080/"
        },
        "id": "35bvtQIWolJD",
        "outputId": "2fed887a-5ea1-4c6a-fb0f-90815e422eee"
      },
      "execution_count": null,
      "outputs": [
        {
          "output_type": "stream",
          "name": "stdout",
          "text": [
            "New 'Revenue' column has been created.\n"
          ]
        }
      ]
    },
    {
      "source": [
        "def remove_outliers_iqr(df, column):\n",
        "    \"\"\"Removes outliers from a specified column in a DataFrame using the IQR method.\n",
        "\n",
        "    Args:\n",
        "        df: The input DataFrame.\n",
        "        column: The name of the column to remove outliers from.\n",
        "\n",
        "    Returns:\n",
        "        A new DataFrame with outliers removed.\n",
        "    \"\"\"\n",
        "    Q1 = df[column].quantile(0.25)\n",
        "    Q3 = df[column].quantile(0.75)\n",
        "    IQR = Q3 - Q1\n",
        "    lower_bound = Q1 - 1.5 * IQR\n",
        "    upper_bound = Q3 + 1.5 * IQR\n",
        "    df_no_outliers = df[(df[column] >= lower_bound) & (df[column] <= upper_bound)]\n",
        "    return df_no_outliers\n",
        "\n",
        "# Remove outliers from the 'Price' column\n",
        "df_no_outliers = remove_outliers_iqr(df, 'Price')\n",
        "\n",
        "print(\"Outliers in 'Price' column have been removed.\")"
      ],
      "cell_type": "code",
      "metadata": {
        "colab": {
          "base_uri": "https://localhost:8080/"
        },
        "id": "7wSgNI4aorL6",
        "outputId": "ef0859fc-d612-4175-d993-7dcb3da30e71"
      },
      "execution_count": null,
      "outputs": [
        {
          "output_type": "stream",
          "name": "stdout",
          "text": [
            "Outliers in 'Price' column have been removed.\n"
          ]
        }
      ]
    },
    {
      "source": [
        "# Initialize the MinMaxScaler\n",
        "scaler = MinMaxScaler()\n",
        "\n",
        "# Fit and transform the 'Price' column\n",
        "df_no_outliers['Price_Normalized'] = scaler.fit_transform(df_no_outliers[['Price']])\n",
        "\n",
        "# Fit and transform the 'Revenue' column\n",
        "df_no_outliers['Revenue_Normalized'] = scaler.fit_transform(df_no_outliers[['Revenue']])\n",
        "\n",
        "print(\"'Price' and 'Revenue' columns have been normalized.\")"
      ],
      "cell_type": "code",
      "metadata": {
        "colab": {
          "base_uri": "https://localhost:8080/"
        },
        "id": "nZ6aObsBotvr",
        "outputId": "73c32ef3-8a78-4ce1-95db-8df5e2a6b704"
      },
      "execution_count": null,
      "outputs": [
        {
          "output_type": "stream",
          "name": "stdout",
          "text": [
            "'Price' and 'Revenue' columns have been normalized.\n"
          ]
        },
        {
          "output_type": "stream",
          "name": "stderr",
          "text": [
            "<ipython-input-3-c366a53d8b06>:5: SettingWithCopyWarning: \n",
            "A value is trying to be set on a copy of a slice from a DataFrame.\n",
            "Try using .loc[row_indexer,col_indexer] = value instead\n",
            "\n",
            "See the caveats in the documentation: https://pandas.pydata.org/pandas-docs/stable/user_guide/indexing.html#returning-a-view-versus-a-copy\n",
            "  df_no_outliers['Price_Normalized'] = scaler.fit_transform(df_no_outliers[['Price']])\n",
            "<ipython-input-3-c366a53d8b06>:8: SettingWithCopyWarning: \n",
            "A value is trying to be set on a copy of a slice from a DataFrame.\n",
            "Try using .loc[row_indexer,col_indexer] = value instead\n",
            "\n",
            "See the caveats in the documentation: https://pandas.pydata.org/pandas-docs/stable/user_guide/indexing.html#returning-a-view-versus-a-copy\n",
            "  df_no_outliers['Revenue_Normalized'] = scaler.fit_transform(df_no_outliers[['Revenue']])\n"
          ]
        }
      ]
    }
  ]
}